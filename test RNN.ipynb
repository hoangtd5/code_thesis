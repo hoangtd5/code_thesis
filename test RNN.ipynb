{
 "cells": [
  {
   "cell_type": "code",
   "execution_count": 1,
   "metadata": {},
   "outputs": [],
   "source": [
    "import pandas as pd\n",
    "import numpy as np\n",
    "from matplotlib import pyplot as plt\n",
    "import os\n",
    "import glob\n",
    "\n",
    "from RNN import RNN\n",
    "#from CNN import CNN\n",
    "from Transformer import Transformer\n",
    "\n",
    "from utils import series_to_supervised\n",
    "from tensorflow.compat.v1 import ConfigProto\n",
    "from tensorflow.compat.v1 import InteractiveSession\n",
    "\n",
    "config = ConfigProto()\n",
    "config.gpu_options.allow_growth = True\n",
    "session = InteractiveSession(config=config)"
   ]
  },
  {
   "cell_type": "code",
   "execution_count": 2,
   "metadata": {},
   "outputs": [],
   "source": [
    "dataset = pd.read_csv('df_final.csv', header=0, infer_datetime_format=True, parse_dates=['datetime'], index_col=['datetime'])\n",
    "\n",
    "# resample data to daily\n",
    "daily_groups = dataset.resample('H')\n",
    "daily_data = daily_groups.sum()\n",
    "\n",
    "# We choose to keep only Global_active_power\n",
    "to_drop = ['Wind Direction (deg)','h_max','Barometric Pressure (hPa)','Sea Level Pressure (hPa)','Precipitation (mm)']\n",
    "daily_data.drop(columns=to_drop, inplace=True)"
   ]
  },
  {
   "cell_type": "code",
   "execution_count": 3,
   "metadata": {},
   "outputs": [
    {
     "data": {
      "text/plain": [
       "<bound method NDFrame.head of                      Temperature (°C)  Wind Speed ​​(m/s)  Humidity (%)  \\\n",
       "datetime                                                                  \n",
       "2021-01-01 00:00:00             -4.30                4.70         57.00   \n",
       "2021-01-01 01:00:00             -4.80                3.60         57.05   \n",
       "2021-01-01 02:00:00             -5.20                3.15         59.35   \n",
       "2021-01-01 03:00:00             -5.10                4.05         60.45   \n",
       "2021-01-01 04:00:00             -4.80                4.05         59.30   \n",
       "...                               ...                 ...           ...   \n",
       "2022-06-30 19:00:00             29.45                3.40         66.20   \n",
       "2022-06-30 20:00:00             27.70                3.70         72.35   \n",
       "2022-06-30 21:00:00             26.60                2.80         76.50   \n",
       "2022-06-30 22:00:00             26.00                3.40         77.85   \n",
       "2022-06-30 23:00:00             24.75                1.90         83.95   \n",
       "\n",
       "                     Insolation (MJ/m^2) per hour  Sunlight (Sec) per hour  \\\n",
       "datetime                                                                     \n",
       "2021-01-01 00:00:00                          0.00                      0.0   \n",
       "2021-01-01 01:00:00                          0.00                      0.0   \n",
       "2021-01-01 02:00:00                          0.00                      0.0   \n",
       "2021-01-01 03:00:00                          0.00                      0.0   \n",
       "2021-01-01 04:00:00                          0.00                      0.0   \n",
       "...                                           ...                      ...   \n",
       "2022-06-30 19:00:00                          0.02                      0.0   \n",
       "2022-06-30 20:00:00                          0.00                      0.0   \n",
       "2022-06-30 21:00:00                          0.00                      0.0   \n",
       "2022-06-30 22:00:00                          0.00                      0.0   \n",
       "2022-06-30 23:00:00                          0.00                      0.0   \n",
       "\n",
       "                     P(kWh)  \n",
       "datetime                     \n",
       "2021-01-01 00:00:00     0.0  \n",
       "2021-01-01 01:00:00     0.0  \n",
       "2021-01-01 02:00:00     0.0  \n",
       "2021-01-01 03:00:00     0.0  \n",
       "2021-01-01 04:00:00     0.0  \n",
       "...                     ...  \n",
       "2022-06-30 19:00:00     0.0  \n",
       "2022-06-30 20:00:00     0.0  \n",
       "2022-06-30 21:00:00     0.0  \n",
       "2022-06-30 22:00:00     0.0  \n",
       "2022-06-30 23:00:00     0.0  \n",
       "\n",
       "[13104 rows x 6 columns]>"
      ]
     },
     "execution_count": 3,
     "metadata": {},
     "output_type": "execute_result"
    }
   ],
   "source": [
    "daily_data.head"
   ]
  },
  {
   "cell_type": "code",
   "execution_count": 4,
   "metadata": {},
   "outputs": [
    {
     "name": "stdout",
     "output_type": "stream",
     "text": [
      "<class 'pandas.core.frame.DataFrame'>\n",
      "DatetimeIndex: 13104 entries, 2021-01-01 00:00:00 to 2022-06-30 23:00:00\n",
      "Freq: H\n",
      "Data columns (total 10 columns):\n",
      " #   Column                        Non-Null Count  Dtype  \n",
      "---  ------                        --------------  -----  \n",
      " 0   Temperature (°C)              13104 non-null  float64\n",
      " 1   Wind Speed ​​(m/s)            13104 non-null  float64\n",
      " 2   Humidity (%)                  13104 non-null  float64\n",
      " 3   Insolation (MJ/m^2) per hour  13104 non-null  float64\n",
      " 4   Sunlight (Sec) per hour       13104 non-null  float64\n",
      " 5   P(kWh)                        13104 non-null  float64\n",
      " 6   hour                          13104 non-null  int64  \n",
      " 7   day                           13104 non-null  int64  \n",
      " 8   weekday                       13104 non-null  float64\n",
      " 9   season                        13104 non-null  int64  \n",
      "dtypes: float64(7), int64(3)\n",
      "memory usage: 1.1 MB\n",
      "None\n"
     ]
    }
   ],
   "source": [
    "\n",
    "# add calendar-related features\n",
    "daily_data['hour'] = pd.DatetimeIndex(daily_data.index).hour\n",
    "daily_data['day'] = pd.DatetimeIndex(daily_data.index).day\n",
    "daily_data['weekday'] = ((pd.DatetimeIndex(daily_data.index).dayofweek) // 5 == 1).astype(float)\n",
    "daily_data['season'] = [month%12 // 3 + 1 for month in pd.DatetimeIndex(daily_data.index).month]\n",
    "\n",
    "# summarize\n",
    "print(daily_data.info())\n",
    "#print(daily_data.head())\n"
   ]
  },
  {
   "cell_type": "code",
   "execution_count": 5,
   "metadata": {},
   "outputs": [
    {
     "data": {
      "text/plain": [
       "10"
      ]
     },
     "execution_count": 5,
     "metadata": {},
     "output_type": "execute_result"
    }
   ],
   "source": [
    "look_back = 168\n",
    "n_features = daily_data.shape[1]\n",
    "n_features"
   ]
  },
  {
   "cell_type": "code",
   "execution_count": 6,
   "metadata": {},
   "outputs": [],
   "source": [
    "\n",
    "# Walk-forward data split to avoid data leakage\n",
    "X_train, y_train, X_test, y_test, scale_X = series_to_supervised(daily_data, train_size=0.8, n_in=look_back, n_out=24, target_column='P(kWh)', dropnan=True, scale_X=True)\n",
    "\n",
    "# reshape input to be 3D [samples, timesteps, features]\n",
    "X_train_reshaped = X_train.values.reshape((-1,look_back,n_features))\n",
    "X_test_reshaped = X_test.values.reshape((-1,look_back,n_features))\n",
    "\n",
    "y_train_reshaped = y_train.values\n",
    "y_test_reshaped = y_test.values"
   ]
  },
  {
   "cell_type": "code",
   "execution_count": 7,
   "metadata": {},
   "outputs": [
    {
     "data": {
      "text/plain": [
       "(10330, 168, 10)"
      ]
     },
     "execution_count": 7,
     "metadata": {},
     "output_type": "execute_result"
    }
   ],
   "source": [
    "X_train_reshaped.shape"
   ]
  },
  {
   "cell_type": "code",
   "execution_count": 8,
   "metadata": {},
   "outputs": [
    {
     "name": "stdout",
     "output_type": "stream",
     "text": [
      "WARNING:tensorflow:Layer lstm_1 will not use cuDNN kernel since it doesn't meet the cuDNN kernel criteria. It will use generic GPU kernel as fallback when running on GPU\n",
      "WARNING:tensorflow:Layer lstm_2 will not use cuDNN kernel since it doesn't meet the cuDNN kernel criteria. It will use generic GPU kernel as fallback when running on GPU\n",
      "\n",
      "Search: Running Trial #1\n",
      "\n",
      "Value             |Best Value So Far |Hyperparameter\n",
      "184               |?                 |input_unit\n",
      "6                 |?                 |num_layers\n",
      "248               |?                 |units_0\n",
      "relu              |?                 |act_0\n",
      "120               |?                 |units_1\n",
      "tanh              |?                 |act_1\n",
      "376               |?                 |layer_2_neurons\n",
      "0.3               |?                 |Dropout_rate\n",
      "\n",
      "WARNING:tensorflow:Layer lstm_1 will not use cuDNN kernel since it doesn't meet the cuDNN kernel criteria. It will use generic GPU kernel as fallback when running on GPU\n",
      "WARNING:tensorflow:Layer lstm_3 will not use cuDNN kernel since it doesn't meet the cuDNN kernel criteria. It will use generic GPU kernel as fallback when running on GPU\n",
      "WARNING:tensorflow:Layer lstm_4 will not use cuDNN kernel since it doesn't meet the cuDNN kernel criteria. It will use generic GPU kernel as fallback when running on GPU\n",
      "WARNING:tensorflow:Layer lstm_5 will not use cuDNN kernel since it doesn't meet the cuDNN kernel criteria. It will use generic GPU kernel as fallback when running on GPU\n",
      "WARNING:tensorflow:Layer lstm_6 will not use cuDNN kernel since it doesn't meet the cuDNN kernel criteria. It will use generic GPU kernel as fallback when running on GPU\n",
      "Epoch 1/5\n",
      "108/259 [===========>..................] - ETA: 6:51 - loss: nan - rmse: nan - mae: nan - smape: nan - coeff_determination: nan"
     ]
    }
   ],
   "source": [
    "rnn = RNN()\n",
    "rnn.train(X_train_reshaped,y_train_reshaped)\n"
   ]
  },
  {
   "cell_type": "code",
   "execution_count": null,
   "metadata": {},
   "outputs": [
    {
     "name": "stdout",
     "output_type": "stream",
     "text": [
      "82/82 [==============================] - 5s 59ms/step - loss: 642.5649 - rmse: 24.6270 - mae: 18.6182 - smape: 68.2226 - coeff_determination: 0.0275\n"
     ]
    }
   ],
   "source": [
    "_, rmse_result, mae_result, smape_result, r2_result = rnn.evaluate(X_test_reshaped,y_test_reshaped)"
   ]
  },
  {
   "cell_type": "code",
   "execution_count": null,
   "metadata": {},
   "outputs": [
    {
     "name": "stdout",
     "output_type": "stream",
     "text": [
      "Result \n",
      " RMSE = 24.63 [kWh] \n",
      " MAE = 18.62 [kWh]\n",
      " R2 = 17.8 [%]\n"
     ]
    }
   ],
   "source": [
    "\n",
    "print('Result \\n RMSE = %.2f [kWh] \\n MAE = %.2f [kWh]\\n R2 = %.1f [%%]' % (rmse_result,\n",
    "                                                                            mae_result,\n",
    "                                                                            r2_result*100))"
   ]
  }
 ],
 "metadata": {
  "kernelspec": {
   "display_name": "Python 3",
   "language": "python",
   "name": "python3"
  },
  "language_info": {
   "codemirror_mode": {
    "name": "ipython",
    "version": 3
   },
   "file_extension": ".py",
   "mimetype": "text/x-python",
   "name": "python",
   "nbconvert_exporter": "python",
   "pygments_lexer": "ipython3",
   "version": "3.8.8"
  },
  "vscode": {
   "interpreter": {
    "hash": "ad2bdc8ecc057115af97d19610ffacc2b4e99fae6737bb82f5d7fb13d2f2c186"
   }
  }
 },
 "nbformat": 4,
 "nbformat_minor": 2
}
